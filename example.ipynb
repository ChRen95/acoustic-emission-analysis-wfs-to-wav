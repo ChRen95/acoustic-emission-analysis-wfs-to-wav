{
 "metadata": {
  "name": "",
  "kernel_info": {
   "name": "python3",
   "language": "python",
   "display_name": "Python 3 (ipykernel)"
  }
 },
 "nbformat": 3,
 "nbformat_minor": 0,
 "worksheets": [
  {
   "cells": [
    {
     "cell_type": "code",
     "collapsed": false,
     "input": "import acoustic_emission_analysis as aem",
     "language": "python",
     "metadata": {
      "ExecuteTime": {
       "end_time": "2024-08-12T06:36:00.258426Z",
       "start_time": "2024-08-12T06:35:59.681945Z"
      }
     },
     "outputs": [],
     "prompt_number": 1
    },
    {
     "cell_type": "code",
     "collapsed": false,
     "input": [
      "f = aem.WFS(\"DC01_Sample.wfs\")\n",
      "f.save_wav(\"DC01_Sample.wav\")"
     ],
     "language": "python",
     "metadata": {
      "ExecuteTime": {
       "end_time": "2024-08-12T06:36:48.694923Z",
       "start_time": "2024-08-12T06:36:48.447948Z"
      }
     },
     "outputs": [
      {
       "output_type": "stream",
       "stream": "stderr",
       "text": [
        "/home/christoph/PycharmProjects/acustic-emission-analysis/acoustic_emission_analysis/ae.py:198: UserWarning: 9 bytes at the end of file won't fit into blocks\n",
        "  warnings.warn(\"{} bytes at the end of file won't fit into blocks\".format(rest))\n"
       ]
      },
      {
       "output_type": "stream",
       "stream": "stdout",
       "text": [
        "OrderedDict(\n",
        "    ('product', OrderedDict(\n",
        "        ('ver', 670),\n",
        "        ('text', b'PCI2 (r) Location Version \\n\\rVersion E4.30'),\n",
        "    )),\n",
        "    ('hwsetup', OrderedDict(\n",
        "        ('ver', 110),\n",
        "        ('AD', '16-bit signed'),\n",
        "        ('num', 14338),\n",
        "        ('size', 37),\n",
        "        ('id', 0),\n",
        "        ('unk1', 0),\n",
        "        ('rate', 2000),\n",
        "        ('trig.mode', 0),\n",
        "        ('trig.src', 1),\n",
        "        ('trig.delay', -1024),\n",
        "        ('unk2', 65535),\n",
        "        ('max.volt', 10),\n",
        "        ('trig.thresh', 40),\n",
        "    )),\n",
        "    ('date', b'Mon Jul 29 13:13:37 2024'),\n",
        "    ('start_time', np.float64(6.5536)),\n",
        ")\n"
       ]
      },
      {
       "ename": "KeyError",
       "evalue": "'TimeBase'",
       "output_type": "pyerr",
       "traceback": [
        "\u001B[0;31m---------------------------------------------------------------------------\u001B[0m",
        "\u001B[0;31mKeyError\u001B[0m                                  Traceback (most recent call last)",
        "Cell \u001B[0;32mIn[5], line 2\u001B[0m\n\u001B[1;32m      1\u001B[0m f \u001B[38;5;241m=\u001B[39m aem\u001B[38;5;241m.\u001B[39mWFS(\u001B[38;5;124m\"\u001B[39m\u001B[38;5;124mDC01_Sample.wfs\u001B[39m\u001B[38;5;124m\"\u001B[39m)\n\u001B[0;32m----> 2\u001B[0m \u001B[43mf\u001B[49m\u001B[38;5;241;43m.\u001B[39;49m\u001B[43msave_wav\u001B[49m\u001B[43m(\u001B[49m\u001B[38;5;124;43m\"\u001B[39;49m\u001B[38;5;124;43mDC01_Sample.wav\u001B[39;49m\u001B[38;5;124;43m\"\u001B[39;49m\u001B[43m)\u001B[49m\n",
        "File \u001B[0;32m~/PycharmProjects/acustic-emission-analysis/acoustic_emission_analysis/ae.py:394\u001B[0m, in \u001B[0;36mData.save_wav\u001B[0;34m(self, fname, channel, range, rate)\u001B[0m\n\u001B[1;32m    391\u001B[0m     w\u001B[38;5;241m.\u001B[39msetframerate(rate)\n\u001B[1;32m    393\u001B[0m start, end \u001B[38;5;241m=\u001B[39m \u001B[38;5;28mrange\u001B[39m\n\u001B[0;32m--> 394\u001B[0m \u001B[43m\u001B[49m\u001B[38;5;28;43;01mfor\u001B[39;49;00m\u001B[43m \u001B[49m\u001B[43mpos\u001B[49m\u001B[43m,\u001B[49m\u001B[43m \u001B[49m\u001B[43mdata\u001B[49m\u001B[43m \u001B[49m\u001B[38;5;129;43;01min\u001B[39;49;00m\u001B[43m \u001B[49m\u001B[38;5;28;43mself\u001B[39;49m\u001B[38;5;241;43m.\u001B[39;49m\u001B[43miter_blocks\u001B[49m\u001B[43m(\u001B[49m\u001B[43mstart\u001B[49m\u001B[38;5;241;43m=\u001B[39;49m\u001B[43mstart\u001B[49m\u001B[43m,\u001B[49m\u001B[43m \u001B[49m\u001B[43mstop\u001B[49m\u001B[38;5;241;43m=\u001B[39;49m\u001B[43mend\u001B[49m\u001B[43m,\u001B[49m\u001B[43m \u001B[49m\u001B[43mchannel\u001B[49m\u001B[38;5;241;43m=\u001B[39;49m\u001B[43mchannel\u001B[49m\u001B[43m)\u001B[49m\u001B[43m:\u001B[49m\n\u001B[1;32m    395\u001B[0m \u001B[43m    \u001B[49m\u001B[38;5;28;43;01mif\u001B[39;49;00m\u001B[43m \u001B[49m\u001B[43mpos\u001B[49m\u001B[43m \u001B[49m\u001B[38;5;241;43m<\u001B[39;49m\u001B[43m \u001B[49m\u001B[43mstart\u001B[49m\u001B[43m \u001B[49m\u001B[38;5;129;43;01mor\u001B[39;49;00m\u001B[43m \u001B[49m\u001B[43mpos\u001B[49m\u001B[43m \u001B[49m\u001B[38;5;241;43m+\u001B[39;49m\u001B[43m \u001B[49m\u001B[43mdata\u001B[49m\u001B[38;5;241;43m.\u001B[39;49m\u001B[43msize\u001B[49m\u001B[43m \u001B[49m\u001B[38;5;241;43m>\u001B[39;49m\u001B[43m \u001B[49m\u001B[43mend\u001B[49m\u001B[43m:\u001B[49m\n\u001B[1;32m    396\u001B[0m \u001B[43m        \u001B[49m\u001B[43ma\u001B[49m\u001B[43m \u001B[49m\u001B[38;5;241;43m=\u001B[39;49m\u001B[43m \u001B[49m\u001B[38;5;28;43mmax\u001B[39;49m\u001B[43m(\u001B[49m\u001B[38;5;241;43m0\u001B[39;49m\u001B[43m,\u001B[49m\u001B[43m \u001B[49m\u001B[43mstart\u001B[49m\u001B[43m \u001B[49m\u001B[38;5;241;43m-\u001B[39;49m\u001B[43m \u001B[49m\u001B[43mpos\u001B[49m\u001B[43m)\u001B[49m\n",
        "File \u001B[0;32m~/PycharmProjects/acustic-emission-analysis/acoustic_emission_analysis/ae.py:186\u001B[0m, in \u001B[0;36mData.iter_blocks\u001B[0;34m(self, start, stop, channel, progress)\u001B[0m\n\u001B[1;32m    184\u001B[0m \u001B[38;5;28;01mimport\u001B[39;00m \u001B[38;5;21;01msys\u001B[39;00m\u001B[38;5;241m,\u001B[39m \u001B[38;5;21;01mtime\u001B[39;00m\n\u001B[1;32m    185\u001B[0m start_time \u001B[38;5;241m=\u001B[39m time\u001B[38;5;241m.\u001B[39mtime()\n\u001B[0;32m--> 186\u001B[0m \u001B[43m\u001B[49m\u001B[38;5;28;43;01mfor\u001B[39;49;00m\u001B[43m \u001B[49m\u001B[43mpos\u001B[49m\u001B[43m,\u001B[49m\u001B[43m \u001B[49m\u001B[43mraw\u001B[49m\u001B[43m \u001B[49m\u001B[38;5;129;43;01min\u001B[39;49;00m\u001B[43m \u001B[49m\u001B[38;5;28;43mself\u001B[39;49m\u001B[38;5;241;43m.\u001B[39;49m\u001B[43mraw_iter_blocks\u001B[49m\u001B[43m(\u001B[49m\u001B[43mstart\u001B[49m\u001B[43m,\u001B[49m\u001B[43m \u001B[49m\u001B[43mstop\u001B[49m\u001B[43m)\u001B[49m\u001B[43m:\u001B[49m\n\u001B[1;32m    187\u001B[0m \u001B[43m    \u001B[49m\u001B[38;5;28;43mself\u001B[39;49m\u001B[38;5;241;43m.\u001B[39;49m\u001B[43mcheck_block\u001B[49m\u001B[43m(\u001B[49m\u001B[43mpos\u001B[49m\u001B[43m,\u001B[49m\u001B[43m \u001B[49m\u001B[43mraw\u001B[49m\u001B[43m)\u001B[49m\n\u001B[1;32m    188\u001B[0m \u001B[43m    \u001B[49m\u001B[38;5;28;43;01myield\u001B[39;49;00m\u001B[43m \u001B[49m\u001B[43mpos\u001B[49m\u001B[43m,\u001B[49m\u001B[43m \u001B[49m\u001B[38;5;28;43mself\u001B[39;49m\u001B[38;5;241;43m.\u001B[39;49m\u001B[43mget_block_data\u001B[49m\u001B[43m(\u001B[49m\u001B[43mraw\u001B[49m\u001B[43m)\u001B[49m\u001B[43m[\u001B[49m\u001B[38;5;241;43m.\u001B[39;49m\u001B[38;5;241;43m.\u001B[39;49m\u001B[38;5;241;43m.\u001B[39;49m\u001B[43m,\u001B[49m\u001B[43m \u001B[49m\u001B[43mchannel\u001B[49m\u001B[43m]\u001B[49m\n",
        "File \u001B[0;32m~/PycharmProjects/acustic-emission-analysis/acoustic_emission_analysis/ae.py:637\u001B[0m, in \u001B[0;36mWFS.raw_iter_blocks\u001B[0;34m(self, start, stop)\u001B[0m\n\u001B[1;32m    635\u001B[0m \u001B[38;5;28mprint\u001B[39m(\u001B[38;5;28mself\u001B[39m\u001B[38;5;241m.\u001B[39mmeta)\n\u001B[1;32m    636\u001B[0m pos \u001B[38;5;241m=\u001B[39m start \u001B[38;5;241m/\u001B[39m\u001B[38;5;241m/\u001B[39m \u001B[38;5;28mself\u001B[39m\u001B[38;5;241m.\u001B[39mshape[\u001B[38;5;241m-\u001B[39m\u001B[38;5;241m1\u001B[39m] \u001B[38;5;241m*\u001B[39m \u001B[38;5;28mself\u001B[39m\u001B[38;5;241m.\u001B[39mshape[\u001B[38;5;241m-\u001B[39m\u001B[38;5;241m1\u001B[39m]\n\u001B[0;32m--> 637\u001B[0m start \u001B[38;5;241m=\u001B[39m pos \u001B[38;5;241m*\u001B[39m \u001B[38;5;28;43mself\u001B[39;49m\u001B[38;5;241;43m.\u001B[39;49m\u001B[43mmeta\u001B[49m\u001B[43m[\u001B[49m\u001B[38;5;124;43m'\u001B[39;49m\u001B[38;5;124;43mTimeBase\u001B[39;49m\u001B[38;5;124;43m'\u001B[39;49m\u001B[43m]\u001B[49m \u001B[38;5;241m/\u001B[39m\u001B[38;5;241m/\u001B[39m \u001B[38;5;28mself\u001B[39m\u001B[38;5;241m.\u001B[39mmeta[\u001B[38;5;124m'\u001B[39m\u001B[38;5;124m_SampleRate\u001B[39m\u001B[38;5;124m'\u001B[39m]\n\u001B[1;32m    639\u001B[0m \u001B[38;5;28mself\u001B[39m\u001B[38;5;241m.\u001B[39mcur\u001B[38;5;241m.\u001B[39mexecute(\u001B[38;5;124m\"\u001B[39m\u001B[38;5;124mSELECT Time, Data FROM tr_data WHERE Time >= ? ORDER BY TRAI;\u001B[39m\u001B[38;5;124m\"\u001B[39m,\n\u001B[1;32m    640\u001B[0m                  (start,))  \u001B[38;5;66;03m# ORDER BY Time,Chan; ?\u001B[39;00m\n\u001B[1;32m    641\u001B[0m \u001B[38;5;28;01mwhile\u001B[39;00m pos \u001B[38;5;241m<\u001B[39m stop:\n",
        "\u001B[0;31mKeyError\u001B[0m: 'TimeBase'"
       ]
      }
     ],
     "prompt_number": 5
    },
    {
     "metadata": {},
     "cell_type": "code",
     "outputs": [],
     "language": "Python",
     "input": ""
    }
   ],
   "metadata": {}
  }
 ]
}
